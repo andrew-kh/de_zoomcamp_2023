{
 "cells": [
  {
   "cell_type": "markdown",
   "id": "4bd54864",
   "metadata": {},
   "source": [
    "to be run on Windows"
   ]
  },
  {
   "cell_type": "markdown",
   "id": "a9fb4aa5",
   "metadata": {},
   "source": [
    "## Rides data"
   ]
  },
  {
   "cell_type": "code",
   "execution_count": null,
   "id": "a260490c",
   "metadata": {},
   "outputs": [],
   "source": [
    "import pandas as pd\n",
    "import urllib.request\n",
    "import gzip\n",
    "import psycopg2\n",
    "from sqlalchemy import create_engine\n",
    "from sqlalchemy.engine import URL"
   ]
  },
  {
   "cell_type": "code",
   "execution_count": null,
   "id": "bce8c036",
   "metadata": {},
   "outputs": [],
   "source": [
    "file_name = 'green_tripdata_2019-01.csv.gz'\n",
    "url = f'https://github.com/DataTalksClub/nyc-tlc-data/releases/download/green/{file_name}'"
   ]
  },
  {
   "cell_type": "code",
   "execution_count": null,
   "id": "cadb6db6",
   "metadata": {
    "scrolled": true
   },
   "outputs": [],
   "source": [
    "urllib.request.urlretrieve(url, file_name)"
   ]
  },
  {
   "cell_type": "code",
   "execution_count": null,
   "id": "a484e829",
   "metadata": {},
   "outputs": [],
   "source": [
    "with gzip.open(file_name) as f:\n",
    "\n",
    "    df_rides = pd.read_csv(f)"
   ]
  },
  {
   "cell_type": "code",
   "execution_count": null,
   "id": "789d5600",
   "metadata": {},
   "outputs": [],
   "source": [
    "df_rides['lpep_pickup_datetime'] = pd.to_datetime(df_rides['lpep_pickup_datetime'])\n",
    "df_rides['lpep_dropoff_datetime'] = pd.to_datetime(df_rides['lpep_dropoff_datetime'])"
   ]
  },
  {
   "cell_type": "code",
   "execution_count": null,
   "id": "68b60a6b",
   "metadata": {},
   "outputs": [],
   "source": [
    "sql_create_rides = pd.io.sql.get_schema(df_rides.reset_index(), 'fct_green_trips')"
   ]
  },
  {
   "cell_type": "code",
   "execution_count": null,
   "id": "19d2fb7f",
   "metadata": {},
   "outputs": [],
   "source": [
    "conn = psycopg2.connect(\n",
    "host = 'localhost',\n",
    "database = 'ny_taxi',\n",
    "user = 'root',\n",
    "password = 'root'\n",
    ")\n",
    "\n",
    "cursor = conn.cursor()\n",
    "\n",
    "cursor.execute(sql_create_rides)\n",
    "\n",
    "conn.commit()"
   ]
  },
  {
   "cell_type": "markdown",
   "id": "45a6ee70",
   "metadata": {},
   "source": [
    "## Zones"
   ]
  },
  {
   "cell_type": "code",
   "execution_count": null,
   "id": "a353ebad",
   "metadata": {},
   "outputs": [],
   "source": [
    "file_name_zones = 'taxi+_zone_lookup.csv'\n",
    "url_zones = f'https://s3.amazonaws.com/nyc-tlc/misc/{file_name_zones}'"
   ]
  },
  {
   "cell_type": "code",
   "execution_count": null,
   "id": "8f607ffb",
   "metadata": {},
   "outputs": [],
   "source": [
    "urllib.request.urlretrieve(url_zones, file_name_zones)"
   ]
  },
  {
   "cell_type": "code",
   "execution_count": null,
   "id": "c7bb4f35",
   "metadata": {},
   "outputs": [],
   "source": [
    "df_zones = pd.read_csv('taxi+_zone_lookup.csv')"
   ]
  },
  {
   "cell_type": "code",
   "execution_count": null,
   "id": "ae079014",
   "metadata": {},
   "outputs": [],
   "source": [
    "sql_create_zones = pd.io.sql.get_schema(df_zones.reset_index(), 'dim_zones')"
   ]
  },
  {
   "cell_type": "code",
   "execution_count": null,
   "id": "8cd3b611",
   "metadata": {},
   "outputs": [],
   "source": [
    "cursor.execute(sql_create_zones)\n",
    "\n",
    "conn.commit()"
   ]
  },
  {
   "cell_type": "code",
   "execution_count": null,
   "id": "1bfec816",
   "metadata": {},
   "outputs": [],
   "source": [
    "url = URL.create(\n",
    "    drivername=\"postgresql\",\n",
    "    username=\"root\",\n",
    "    host=\"localhost\",\n",
    "    database=\"ny_taxi\",\n",
    "    password = 'root'\n",
    ")\n",
    "\n",
    "engine = create_engine(url)"
   ]
  },
  {
   "cell_type": "code",
   "execution_count": null,
   "id": "12818b9a",
   "metadata": {},
   "outputs": [],
   "source": [
    "df_zones.to_sql('dim_zones', engine, 'public', 'append')"
   ]
  }
 ],
 "metadata": {
  "kernelspec": {
   "display_name": "Python 3 (ipykernel)",
   "language": "python",
   "name": "python3"
  },
  "language_info": {
   "codemirror_mode": {
    "name": "ipython",
    "version": 3
   },
   "file_extension": ".py",
   "mimetype": "text/x-python",
   "name": "python",
   "nbconvert_exporter": "python",
   "pygments_lexer": "ipython3",
   "version": "3.9.12"
  }
 },
 "nbformat": 4,
 "nbformat_minor": 5
}
